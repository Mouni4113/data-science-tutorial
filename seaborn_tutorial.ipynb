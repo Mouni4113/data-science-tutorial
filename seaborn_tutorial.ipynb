{
  "nbformat": 4,
  "nbformat_minor": 0,
  "metadata": {
    "colab": {
      "private_outputs": true,
      "provenance": [],
      "authorship_tag": "ABX9TyOzmZ6TkKeWeLz6tyPHrOLK",
      "include_colab_link": true
    },
    "kernelspec": {
      "name": "python3",
      "display_name": "Python 3"
    },
    "language_info": {
      "name": "python"
    }
  },
  "cells": [
    {
      "cell_type": "markdown",
      "metadata": {
        "id": "view-in-github",
        "colab_type": "text"
      },
      "source": [
        "<a href=\"https://colab.research.google.com/github/Mouni4113/data-science-tutorial/blob/main/seaborn_tutorial.ipynb\" target=\"_parent\"><img src=\"https://colab.research.google.com/assets/colab-badge.svg\" alt=\"Open In Colab\"/></a>"
      ]
    },
    {
      "cell_type": "code",
      "execution_count": null,
      "metadata": {
        "id": "6ovIjGvTQ7It"
      },
      "outputs": [],
      "source": [
        "import pandas as pd\n",
        "import seaborn as sb\n",
        "from matplotlib import pyplot as plt\n",
        "df = sb.load_dataset('tips')\n",
        "print(df.to_string())\n",
        "g = sb.FacetGrid(df,col = \"day\")\n",
        "g.map(plt.hist,\"tip\")\n",
        "plt.show()\n",
        "\n"
      ]
    },
    {
      "cell_type": "code",
      "source": [
        "g = sb.FacetGrid(df,col = \"sex\",hue=\"day\" )\n",
        "g.map(plt.scatter,\"total_bill\",\"tip\")\n",
        "plt.show()\n"
      ],
      "metadata": {
        "id": "qYaSyaEqVwAo"
      },
      "execution_count": null,
      "outputs": []
    },
    {
      "cell_type": "code",
      "source": [
        "sb.barplot(x = \"sex\",y = \"tip\",hue=\"time\",data=df)\n",
        "plt.show()"
      ],
      "metadata": {
        "id": "oTvOJljwXoGQ"
      },
      "execution_count": null,
      "outputs": []
    },
    {
      "cell_type": "code",
      "source": [
        "sb.regplot(x =\"total_bill\",y = \"tip\",data=df)\n",
        "plt.show()"
      ],
      "metadata": {
        "id": "7DEFtRPSY56q"
      },
      "execution_count": null,
      "outputs": []
    },
    {
      "cell_type": "code",
      "source": [
        "sb.pairplot(df)\n",
        "plt.show()"
      ],
      "metadata": {
        "id": "k3ugBqzqbFFY"
      },
      "execution_count": null,
      "outputs": []
    },
    {
      "cell_type": "code",
      "source": [
        "selected_vars = ['total_bill','tip']\n",
        "sb.pairplot(df,vars = selected_vars)\n",
        "plt.show()"
      ],
      "metadata": {
        "id": "nbaP0qCqdse0"
      },
      "execution_count": null,
      "outputs": []
    },
    {
      "cell_type": "code",
      "source": [
        "sb.pairplot(df,hue = 'size')\n",
        "plt.show()"
      ],
      "metadata": {
        "id": "70KLvFA4eu6z"
      },
      "execution_count": null,
      "outputs": []
    },
    {
      "cell_type": "code",
      "source": [
        "sb.pairplot(df,hue = 'size',palette = \"husl\")\n",
        "plt.show()"
      ],
      "metadata": {
        "id": "Lurstr21feFF"
      },
      "execution_count": null,
      "outputs": []
    },
    {
      "cell_type": "code",
      "source": [
        "sb.pairplot(df,diag_kind='kde')\n",
        "plt.show()"
      ],
      "metadata": {
        "id": "JB33a2BCgDgT"
      },
      "execution_count": null,
      "outputs": []
    },
    {
      "cell_type": "code",
      "source": [
        "sb.pairplot(df,kind='reg')\n",
        "plt.show()"
      ],
      "metadata": {
        "id": "Ze4KV02eglM_"
      },
      "execution_count": null,
      "outputs": []
    }
  ]
}